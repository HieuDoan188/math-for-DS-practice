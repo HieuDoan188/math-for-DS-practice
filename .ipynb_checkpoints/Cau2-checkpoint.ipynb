{
 "cells": [
  {
   "cell_type": "code",
   "execution_count": 22,
   "metadata": {},
   "outputs": [],
   "source": [
    "\"\"\"\n",
    "Câu 2. Hồi quy tuyến tính (4 điểm)\n",
    "    Tập tin ‘IQ4.xls’ chứa những mẫu dữ liệu được thu thập về mối quan hệ giữa chỉ số IQ với điểm thi\n",
    "    các môn học của sinh viên.\n",
    "    2.1) Thể hiện những thông tin của dữ liệu. Vẽ biểu đồ phân phối tần số điểm thi của các môn.\n",
    "    2.2) Dùng các hàm để tính các giá trị thống kê cơ bản của chỉ số IQ và điểm thi của các môn.\n",
    "    2.3) Xác định outlier(s), nếu có, của chỉ số IQ và điểm thi của các môn dựa trên quy tắc 3-Sigma.\n",
    "    2.4) Chọn điểm thi của một trong các môn để làm cơ sở cho việc dự đoán chỉ số IQ theo phương\n",
    "    pháp hồi quy tuyến tính bằng Gradient Descent và bằng ma trận giả nghịch đảo. Trực quan\n",
    "    hóa dữ liệu và giải thích nguyên nhân của sự lựa chọn.\n",
    "    2.5) Dự đoán các chỉ số IQ tương ứng với x  { 0.5, 1.0, 1.5, 2.0, …, 9.0, 9.5, 10 }.\n",
    "\"\"\"\n",
    "import pandas as pd\n",
    "from scipy import stats\n",
    "import numpy as np\n",
    "import matplotlib.pyplot as plt\n",
    "import seaborn as sns"
   ]
  },
  {
   "cell_type": "markdown",
   "metadata": {},
   "source": [
    "### Câu 2.1 Thể hiện những thông tin của dữ liệu. Vẽ biểu đồ phân phối tần số điểm thi của các môn."
   ]
  },
  {
   "cell_type": "code",
   "execution_count": 23,
   "metadata": {},
   "outputs": [],
   "source": [
    "IQ4 = pd.read_excel('IQ4.xls')"
   ]
  },
  {
   "cell_type": "code",
   "execution_count": 24,
   "metadata": {
    "scrolled": true
   },
   "outputs": [
    {
     "data": {
      "text/html": [
       "<div>\n",
       "<style scoped>\n",
       "    .dataframe tbody tr th:only-of-type {\n",
       "        vertical-align: middle;\n",
       "    }\n",
       "\n",
       "    .dataframe tbody tr th {\n",
       "        vertical-align: top;\n",
       "    }\n",
       "\n",
       "    .dataframe thead th {\n",
       "        text-align: right;\n",
       "    }\n",
       "</style>\n",
       "<table border=\"1\" class=\"dataframe\">\n",
       "  <thead>\n",
       "    <tr style=\"text-align: right;\">\n",
       "      <th></th>\n",
       "      <th>stt</th>\n",
       "      <th>diem_1</th>\n",
       "      <th>diem_2</th>\n",
       "      <th>diem_3</th>\n",
       "      <th>diem_4</th>\n",
       "      <th>IQ</th>\n",
       "    </tr>\n",
       "  </thead>\n",
       "  <tbody>\n",
       "    <tr>\n",
       "      <th>0</th>\n",
       "      <td>1</td>\n",
       "      <td>8</td>\n",
       "      <td>2.0</td>\n",
       "      <td>7.0</td>\n",
       "      <td>7</td>\n",
       "      <td>68</td>\n",
       "    </tr>\n",
       "    <tr>\n",
       "      <th>1</th>\n",
       "      <td>2</td>\n",
       "      <td>8</td>\n",
       "      <td>8.4</td>\n",
       "      <td>6.4</td>\n",
       "      <td>8</td>\n",
       "      <td>137</td>\n",
       "    </tr>\n",
       "    <tr>\n",
       "      <th>2</th>\n",
       "      <td>3</td>\n",
       "      <td>7</td>\n",
       "      <td>7.6</td>\n",
       "      <td>7.8</td>\n",
       "      <td>8</td>\n",
       "      <td>135</td>\n",
       "    </tr>\n",
       "    <tr>\n",
       "      <th>3</th>\n",
       "      <td>4</td>\n",
       "      <td>8</td>\n",
       "      <td>3.0</td>\n",
       "      <td>2.5</td>\n",
       "      <td>6</td>\n",
       "      <td>79</td>\n",
       "    </tr>\n",
       "    <tr>\n",
       "      <th>4</th>\n",
       "      <td>5</td>\n",
       "      <td>8</td>\n",
       "      <td>4.4</td>\n",
       "      <td>3.8</td>\n",
       "      <td>6</td>\n",
       "      <td>107</td>\n",
       "    </tr>\n",
       "  </tbody>\n",
       "</table>\n",
       "</div>"
      ],
      "text/plain": [
       "   stt  diem_1  diem_2  diem_3  diem_4   IQ\n",
       "0    1       8     2.0     7.0       7   68\n",
       "1    2       8     8.4     6.4       8  137\n",
       "2    3       7     7.6     7.8       8  135\n",
       "3    4       8     3.0     2.5       6   79\n",
       "4    5       8     4.4     3.8       6  107"
      ]
     },
     "execution_count": 24,
     "metadata": {},
     "output_type": "execute_result"
    }
   ],
   "source": [
    "IQ4.head()"
   ]
  },
  {
   "cell_type": "code",
   "execution_count": 25,
   "metadata": {},
   "outputs": [
    {
     "data": {
      "image/png": "[encoded data removed]",
      "text/plain": [
       "<Figure size 432x288 with 4 Axes>"
      ]
     },
     "metadata": {},
     "output_type": "display_data"
    }
   ],
   "source": [
    "sns.set()\n",
    "plt.subplot(2,2,1)\n",
    "plt.hist(IQ4.diem_1)\n",
    "plt.title('Diem 1')\n",
    "plt.subplot(2,2,2)\n",
    "plt.hist(IQ4.diem_2)\n",
    "plt.title('Diem 2')\n",
    "plt.subplot(2,2,3)\n",
    "plt.hist(IQ4.diem_3)\n",
    "plt.title('Diem 3')\n",
    "plt.subplot(2,2,4)\n",
    "plt.hist(IQ4.diem_4)\n",
    "plt.title('Diem 4')\n",
    "plt.show()"
   ]
  },
  {
   "cell_type": "markdown",
   "metadata": {},
   "source": [
    "### Câu 2.2 Dùng các hàm để tính các giá trị thống kê cơ bản của chỉ số IQ và điểm thi của các môn."
   ]
  },
  {
   "cell_type": "code",
   "execution_count": 26,
   "metadata": {
    "scrolled": false
   },
   "outputs": [
    {
     "data": {
      "text/html": [
       "<div>\n",
       "<style scoped>\n",
       "    .dataframe tbody tr th:only-of-type {\n",
       "        vertical-align: middle;\n",
       "    }\n",
       "\n",
       "    .dataframe tbody tr th {\n",
       "        vertical-align: top;\n",
       "    }\n",
       "\n",
       "    .dataframe thead th {\n",
       "        text-align: right;\n",
       "    }\n",
       "</style>\n",
       "<table border=\"1\" class=\"dataframe\">\n",
       "  <thead>\n",
       "    <tr style=\"text-align: right;\">\n",
       "      <th></th>\n",
       "      <th>diem_1</th>\n",
       "      <th>diem_2</th>\n",
       "      <th>diem_3</th>\n",
       "      <th>diem_4</th>\n",
       "      <th>IQ</th>\n",
       "    </tr>\n",
       "  </thead>\n",
       "  <tbody>\n",
       "    <tr>\n",
       "      <th>count</th>\n",
       "      <td>20.000000</td>\n",
       "      <td>20.000000</td>\n",
       "      <td>20.00000</td>\n",
       "      <td>20.000000</td>\n",
       "      <td>20.000000</td>\n",
       "    </tr>\n",
       "    <tr>\n",
       "      <th>mean</th>\n",
       "      <td>7.600000</td>\n",
       "      <td>5.920000</td>\n",
       "      <td>6.86000</td>\n",
       "      <td>7.000000</td>\n",
       "      <td>115.200000</td>\n",
       "    </tr>\n",
       "    <tr>\n",
       "      <th>std</th>\n",
       "      <td>0.680557</td>\n",
       "      <td>2.214212</td>\n",
       "      <td>1.79338</td>\n",
       "      <td>0.917663</td>\n",
       "      <td>22.279563</td>\n",
       "    </tr>\n",
       "    <tr>\n",
       "      <th>min</th>\n",
       "      <td>6.000000</td>\n",
       "      <td>2.000000</td>\n",
       "      <td>2.50000</td>\n",
       "      <td>6.000000</td>\n",
       "      <td>68.000000</td>\n",
       "    </tr>\n",
       "    <tr>\n",
       "      <th>25%</th>\n",
       "      <td>7.000000</td>\n",
       "      <td>4.400000</td>\n",
       "      <td>6.07500</td>\n",
       "      <td>6.000000</td>\n",
       "      <td>109.250000</td>\n",
       "    </tr>\n",
       "    <tr>\n",
       "      <th>50%</th>\n",
       "      <td>8.000000</td>\n",
       "      <td>5.800000</td>\n",
       "      <td>7.10000</td>\n",
       "      <td>7.000000</td>\n",
       "      <td>120.000000</td>\n",
       "    </tr>\n",
       "    <tr>\n",
       "      <th>75%</th>\n",
       "      <td>8.000000</td>\n",
       "      <td>7.700000</td>\n",
       "      <td>8.17500</td>\n",
       "      <td>8.000000</td>\n",
       "      <td>134.250000</td>\n",
       "    </tr>\n",
       "    <tr>\n",
       "      <th>max</th>\n",
       "      <td>8.000000</td>\n",
       "      <td>9.600000</td>\n",
       "      <td>9.20000</td>\n",
       "      <td>9.000000</td>\n",
       "      <td>140.000000</td>\n",
       "    </tr>\n",
       "  </tbody>\n",
       "</table>\n",
       "</div>"
      ],
      "text/plain": [
       "          diem_1     diem_2    diem_3     diem_4          IQ\n",
       "count  20.000000  20.000000  20.00000  20.000000   20.000000\n",
       "mean    7.600000   5.920000   6.86000   7.000000  115.200000\n",
       "std     0.680557   2.214212   1.79338   0.917663   22.279563\n",
       "min     6.000000   2.000000   2.50000   6.000000   68.000000\n",
       "25%     7.000000   4.400000   6.07500   6.000000  109.250000\n",
       "50%     8.000000   5.800000   7.10000   7.000000  120.000000\n",
       "75%     8.000000   7.700000   8.17500   8.000000  134.250000\n",
       "max     8.000000   9.600000   9.20000   9.000000  140.000000"
      ]
     },
     "execution_count": 26,
     "metadata": {},
     "output_type": "execute_result"
    }
   ],
   "source": [
    "# một số giá trị thống kê cơ bản của IQ và điểm các môn\n",
    "IQ4.drop(['stt'],axis=1).describe()"
   ]
  },
  {
   "cell_type": "markdown",
   "metadata": {},
   "source": [
    "### Câu 2.3 Xác định outlier(s), nếu có, của chỉ số IQ và điểm thi của các môn dựa trên quy tắc 3-Sigma."
   ]
  },
  {
   "cell_type": "code",
   "execution_count": 31,
   "metadata": {},
   "outputs": [],
   "source": [
    "z_score_IQ = stats.zscore(IQ4['IQ'])\n",
    "z_score_diem1 = stats.zscore(IQ4['diem_1'])\n",
    "z_score_diem2 = stats.zscore(IQ4['diem_2'])\n",
    "z_score_diem3 = stats.zscore(IQ4['diem_3'])\n",
    "z_score_diem4 = stats.zscore(IQ4['diem_4'])"
   ]
  },
  {
   "cell_type": "code",
   "execution_count": 35,
   "metadata": {
    "scrolled": true
   },
   "outputs": [
    {
     "data": {
      "image/png": "[encoded data removed]",
      "text/plain": [
       "<Figure size 432x288 with 1 Axes>"
      ]
     },
     "metadata": {},
     "output_type": "display_data"
    }
   ],
   "source": [
    "sns.boxplot(data=[z_score_diem1,z_score_diem2,z_score_diem3,z_score_diem4])\n",
    "plt.title('z score điểm thi các môn')\n",
    "plt.show()"
   ]
  },
  {
   "cell_type": "code",
   "execution_count": 36,
   "metadata": {},
   "outputs": [
    {
     "data": {
      "image/png": "[encoded data removed]",
      "text/plain": [
       "<Figure size 432x288 with 1 Axes>"
      ]
     },
     "metadata": {},
     "output_type": "display_data"
    }
   ],
   "source": [
    "sns.boxplot(data=[z_score_IQ])\n",
    "plt.title('z score IQ')\n",
    "plt.show()"
   ]
  },
  {
   "cell_type": "markdown",
   "metadata": {},
   "source": [
    "#### Từ đồ thi ta thấy boxplot z score của điểm môn 3 và chỉ số IQ là có outliers"
   ]
  },
  {
   "cell_type": "code",
   "execution_count": 51,
   "metadata": {},
   "outputs": [],
   "source": [
    "outliers_IQ_z = z_score_IQ[[(n <=-2)|(n>=2) for n in z_score_IQ]]"
   ]
  },
  {
   "cell_type": "code",
   "execution_count": 52,
   "metadata": {},
   "outputs": [],
   "source": [
    "outliers_diem3_z = z_score_diem3[[(n <=-2)|(n>=2) for n in z_score_diem3]]"
   ]
  },
  {
   "cell_type": "code",
   "execution_count": 56,
   "metadata": {},
   "outputs": [
    {
     "name": "stdout",
     "output_type": "stream",
     "text": [
      "outliers của chỉ số IQ là : 66.774\n",
      "outliers của diểm môn 3 là : 2.387 \n"
     ]
    }
   ],
   "source": [
    "outliers_IQ = outliers_IQ_z*np.std(IQ4['IQ'],ddof=1)+np.mean(IQ4['IQ'])\n",
    "outliers_diem3 = outliers_diem3_z*np.std(IQ4['diem_3'],ddof=1)+np.mean(IQ4['diem_3'])\n",
    "print('outliers của chỉ số IQ là : %.3f' %float(outliers_IQ))\n",
    "print('outliers của diểm môn 3 là : %.3f ' %float(outliers_diem3))"
   ]
  },
  {
   "cell_type": "markdown",
   "metadata": {},
   "source": [
    "#### Câu 2.4 Chọn điểm thi của một trong các môn để làm cơ sở cho việc dự đoán chỉ số IQ theo phương pháp hồi quy tuyến tính bằng Gradient Descent và bằng ma trận giả nghịch đảo. Trực quan hóa dữ liệu và giải thích nguyên nhân của sự lựa chọn."
   ]
  },
  {
   "cell_type": "code",
   "execution_count": 66,
   "metadata": {
    "scrolled": true
   },
   "outputs": [
    {
     "name": "stdout",
     "output_type": "stream",
     "text": [
      "Hệ số tương quan của điểm môn 1 và chỉ số IQ :  -0.08816757647600876\n",
      "Hệ số tương quan của điểm môn 2 và chỉ số IQ :  0.872418870304112\n",
      "Hệ số tương quan của điểm môn 3 và chỉ số IQ :  0.47152202875062077\n",
      "Hệ số tương quan của điểm môn 4 và chỉ số IQ :  0.6229768340153097\n"
     ]
    }
   ],
   "source": [
    "# tính hệ số tương quan giữa điểm các môn và chỉ số IQ\n",
    "diem1_IQ = np.corrcoef(IQ4.diem_1,IQ4.IQ)[0,1]\n",
    "diem2_IQ = np.corrcoef(IQ4.diem_2,IQ4.IQ)[0,1]\n",
    "diem3_IQ = np.corrcoef(IQ4.diem_3,IQ4.IQ)[0,1]\n",
    "diem4_IQ = np.corrcoef(IQ4.diem_4,IQ4.IQ)[0,1]\n",
    "print('Hệ số tương quan của điểm môn 1 và chỉ số IQ : ' , diem1_IQ)\n",
    "print('Hệ số tương quan của điểm môn 2 và chỉ số IQ : ' , diem2_IQ)\n",
    "print('Hệ số tương quan của điểm môn 3 và chỉ số IQ : ' , diem3_IQ)\n",
    "print('Hệ số tương quan của điểm môn 4 và chỉ số IQ : ' , diem4_IQ)"
   ]
  },
  {
   "cell_type": "markdown",
   "metadata": {},
   "source": [
    "#### Ta thấy hệ số tương quan của môn 2 và chỉ số IQ = 0.87 cao hơn nhiều hệ số tương quan của các môn khác so với chỉ số IQ nên ta chọn môn 2 để làm cơ sở dự đoán cho chỉ số IQ"
   ]
  },
  {
   "cell_type": "markdown",
   "metadata": {},
   "source": [
    "#### Sử dụng phương pháp hồi quy tuyến tính bằng Gradient Descent"
   ]
  },
  {
   "cell_type": "code",
   "execution_count": 107,
   "metadata": {},
   "outputs": [],
   "source": [
    "from sklearn import linear_model"
   ]
  },
  {
   "cell_type": "code",
   "execution_count": 108,
   "metadata": {},
   "outputs": [],
   "source": [
    "one   = np.ones((IQ4['diem_2'].shape[0], 1))\n",
    "diem2 = np.concatenate((one, IQ4['diem_2'].values.reshape(-1,1)), axis = 1)"
   ]
  },
  {
   "cell_type": "code",
   "execution_count": 109,
   "metadata": {},
   "outputs": [],
   "source": [
    "regr = linear_model.LinearRegression()"
   ]
  },
  {
   "cell_type": "code",
   "execution_count": 110,
   "metadata": {},
   "outputs": [
    {
     "data": {
      "text/plain": [
       "LinearRegression()"
      ]
     },
     "execution_count": 110,
     "metadata": {},
     "output_type": "execute_result"
    }
   ],
   "source": [
    "regr.fit(diem_2,IQ)"
   ]
  },
  {
   "cell_type": "code",
   "execution_count": 111,
   "metadata": {
    "scrolled": true
   },
   "outputs": [
    {
     "name": "stdout",
     "output_type": "stream",
     "text": [
      "Sử dụng scikit-learn: [8.77834078]\n"
     ]
    }
   ],
   "source": [
    "print('Sử dụng scikit-learn:', regr.coef_)"
   ]
  },
  {
   "cell_type": "markdown",
   "metadata": {},
   "source": [
    "#### Sử dụng phương pháp ma trận giả nghịch đảo"
   ]
  },
  {
   "cell_type": "code",
   "execution_count": 101,
   "metadata": {},
   "outputs": [
    {
     "name": "stdout",
     "output_type": "stream",
     "text": [
      "8.778340776365752 63.232222603914806\n"
     ]
    }
   ],
   "source": [
    "## Thêm 1 cột chứa giá trị 1 vào cột đầu tiên của diem_2\n",
    "one   = np.ones((IQ4['diem_2'].shape[0], 1))\n",
    "xBar2 = np.concatenate((one, IQ4['diem_2'].values.reshape(-1,1)), axis = 1)\n",
    "A = np.dot(xBar2.T, xBar2)\n",
    "b = np.dot(xBar2.T, IQ4.IQ)\n",
    "w = np.dot(np.linalg.pinv(A), b)\n",
    "\n",
    "slope2 = w[1] \n",
    "bias2  = w[0]\n",
    "print(slope2,bias2)"
   ]
  },
  {
   "cell_type": "markdown",
   "metadata": {},
   "source": [
    "#### Câu 2.5 Dự đoán các chỉ số IQ tương ứng với x = { 0.5, 1.0, 1.5, 2.0, …, 9.0, 9.5, 10 }"
   ]
  },
  {
   "cell_type": "code",
   "execution_count": 79,
   "metadata": {},
   "outputs": [],
   "source": [
    "IQ_pred = regr.predict(np.array([0.5, 1.0, 1.5, 2.0,9.0, 9.5, 10]).reshape(-1,1))"
   ]
  },
  {
   "cell_type": "code",
   "execution_count": 87,
   "metadata": {
    "scrolled": true
   },
   "outputs": [
    {
     "name": "stdout",
     "output_type": "stream",
     "text": [
      "chỉ số IQ dự đoán tương ứng là :\"\n",
      "  [ 67.62139299  72.01056338  76.39973377  80.78890416 142.23728959\n",
      " 146.62645998 151.01563037]\n"
     ]
    }
   ],
   "source": [
    "print('chỉ số IQ dự đoán tương ứng là :\"\\n ', IQ_pred)"
   ]
  },
  {
   "cell_type": "code",
   "execution_count": 82,
   "metadata": {
    "scrolled": false
   },
   "outputs": [
    {
     "data": {
      "image/png": "[encoded data removed]",
      "text/plain": [
       "<Figure size 432x288 with 1 Axes>"
      ]
     },
     "metadata": {},
     "output_type": "display_data"
    }
   ],
   "source": [
    "# trực quan hóa dữ liệu\n",
    "# Plot outputs\n",
    "plt.scatter(diem2,IQ,color='b')\n",
    "plt.plot(np.array([0.5, 1.0, 1.5, 2.0,9.0, 9.5, 10]).reshape(-1,1),IQ_pred, color='g', linewidth=3)\n",
    "plt.show()"
   ]
  },
  {
   "cell_type": "code",
   "execution_count": null,
   "metadata": {},
   "outputs": [],
   "source": []
  }
 ],
 "metadata": {
  "kernelspec": {
   "display_name": "Python 3",
   "language": "python",
   "name": "python3"
  },
  "language_info": {
   "codemirror_mode": {
    "name": "ipython",
    "version": 3
   },
   "file_extension": ".py",
   "mimetype": "text/x-python",
   "name": "python",
   "nbconvert_exporter": "python",
   "pygments_lexer": "ipython3",
   "version": "3.6.8"
  }
 },
 "nbformat": 4,
 "nbformat_minor": 4
}
