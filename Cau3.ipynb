{
 "cells": [
  {
   "cell_type": "code",
   "execution_count": 34,
   "metadata": {},
   "outputs": [],
   "source": [
    "\"\"\"\n",
    "Câu 3. Kiểm định trung bình 2 mẫu (2 điểm)\n",
    "        Hai tập tin Mau_1.txt và Mau_2.txt lưu trữ hai mẫu dữ liệu PHỤ THUỘC với nhau.\n",
    "        3.1) Đọc và xem thông tin của dữ liệu.\n",
    "        3.2) Với  = 0.05, hãy cho kết luận về giả thuyết H0: “Hai quần thể có cùng giá trị trung bình.”\n",
    "        bằng 2 phương pháp:\n",
    "        a) Tính toán truyền thống, và\n",
    "        b) Dùng các hàm thống kê có sẵn.\n",
    "\"\"\"\n",
    "from scipy import stats\n",
    "import numpy as np\n",
    "import matplotlib.pyplot as plt\n",
    "import math"
   ]
  },
  {
   "cell_type": "markdown",
   "metadata": {},
   "source": [
    "#### Cau 3.1) Đọc và xem thông tin của dữ liệu."
   ]
  },
  {
   "cell_type": "code",
   "execution_count": 35,
   "metadata": {
    "scrolled": true
   },
   "outputs": [
    {
     "name": "stdout",
     "output_type": "stream",
     "text": [
      "Mau 1 :\n",
      " [134 130 140 151 143 134 136 144 150 135 160 141 143 140 138 141 148 146\n",
      " 140 146 151 138 151 139 151 128 146 147 152 142 144 134 142 146 142 136\n",
      " 122 134 145 147] \n",
      "\n",
      "Mau 2 :\n",
      " [130 145 126 146 164 130 132 152 145 129 133 155 140 127 139 137 131 126\n",
      " 145 148 125 132 126 126 126 135 131 129 147 136 129 136 156 146 130 146\n",
      " 132 142 132 132] \n",
      "\n"
     ]
    }
   ],
   "source": [
    "f1          = open('Mau_1.txt', 'r')\n",
    "f2          = open('Mau_2.txt', 'r')\n",
    "\n",
    "content1    = f1.read()\n",
    "content2    = f2.read()\n",
    "Mau1       = content1.split()\n",
    "Mau2       = content2.split()\n",
    "Mau1_array = np.array(Mau1).astype(int)\n",
    "Mau2_array = np.array(Mau2).astype(int)\n",
    "\n",
    "print('Mau 1 :\\n', Mau1_array, '\\n')\n",
    "print('Mau 2 :\\n', Mau2_array, '\\n')\n",
    "f1.close()\n",
    "f2.close()"
   ]
  },
  {
   "cell_type": "code",
   "execution_count": 36,
   "metadata": {
    "scrolled": false
   },
   "outputs": [
    {
     "name": "stdout",
     "output_type": "stream",
     "text": [
      "thông tin mẫu dữ liệu 1 \n",
      " \n",
      "class:  ndarray\n",
      "shape:  (40,)\n",
      "strides:  (4,)\n",
      "itemsize:  4\n",
      "aligned:  True\n",
      "contiguous:  True\n",
      "fortran:  True\n",
      "data pointer: 0x2b596f93400\n",
      "byteorder:  little\n",
      "byteswap:  False\n",
      "type: int32\n",
      "None\n",
      "\n",
      " thông tin mẫu dữ liệu 2 \n",
      " \n",
      "class:  ndarray\n",
      "shape:  (40,)\n",
      "strides:  (4,)\n",
      "itemsize:  4\n",
      "aligned:  True\n",
      "contiguous:  True\n",
      "fortran:  True\n",
      "data pointer: 0x2b596f93400\n",
      "byteorder:  little\n",
      "byteswap:  False\n",
      "type: int32\n",
      "None\n"
     ]
    }
   ],
   "source": [
    "print('thông tin mẫu dữ liệu 1 \\n ')\n",
    "print(np.info(Mau1_array))\n",
    "\n",
    "print('\\n thông tin mẫu dữ liệu 2 \\n ')\n",
    "print(np.info(Mau1_array))"
   ]
  },
  {
   "cell_type": "markdown",
   "metadata": {},
   "source": [
    "#### Cau 3.2 a. Với alpha = 0.05, hãy cho kết luận về giả thuyết H0: “Hai quần thể có cùng giá trị trung bình.” \n",
    "####    a) bằng phương pháp Tính toán truyền thống"
   ]
  },
  {
   "cell_type": "code",
   "execution_count": 37,
   "metadata": {},
   "outputs": [],
   "source": [
    "# # Tính giá trị trung bình của 2 mẫu\n",
    "mean1, mean2 = np.mean(Mau1_array), np.mean(Mau2_array)"
   ]
  },
  {
   "cell_type": "code",
   "execution_count": 38,
   "metadata": {},
   "outputs": [],
   "source": [
    "se1, se2 = stats.sem(Mau1_array), stats.sem(Mau2_array) # Tính sai số chuẩn (SEM)\n",
    "sed = math.sqrt(se1**2.0 + se2**2.0)  # Standard error on the difference between the samples"
   ]
  },
  {
   "cell_type": "code",
   "execution_count": 39,
   "metadata": {},
   "outputs": [],
   "source": [
    "t_stat = (mean1 - mean2) / sed # Tính chỉ số t\n",
    "df = len(Mau1_array) + len(Mau2_array) - 2 # bậc tự do"
   ]
  },
  {
   "cell_type": "code",
   "execution_count": 40,
   "metadata": {},
   "outputs": [
    {
     "name": "stdout",
     "output_type": "stream",
     "text": [
      "0.010811240390727006\n"
     ]
    }
   ],
   "source": [
    "# Tính p value\n",
    "pvalue_tt = (1.0 - stats.t.cdf(abs(t_stat), df)) * 2.0\n",
    "print(pvalue_tt)"
   ]
  },
  {
   "cell_type": "markdown",
   "metadata": {},
   "source": [
    "##### chỉ số  pvalue = 0.01 < alpha = 0.05 ta bác bỏ giả thuyết vô hiệu Ho 2 quần thể có cùng giá trị trung bình"
   ]
  },
  {
   "cell_type": "markdown",
   "metadata": {},
   "source": [
    "####   b) Dùng các hàm thống kê có sẵn."
   ]
  },
  {
   "cell_type": "code",
   "execution_count": 41,
   "metadata": {},
   "outputs": [],
   "source": [
    "statistic, pvalue = stats.ttest_ind(Mau1_array,Mau2_array)"
   ]
  },
  {
   "cell_type": "code",
   "execution_count": 42,
   "metadata": {},
   "outputs": [
    {
     "data": {
      "text/plain": [
       "0.010811240390727006"
      ]
     },
     "execution_count": 42,
     "metadata": {},
     "output_type": "execute_result"
    }
   ],
   "source": [
    "pvalue"
   ]
  },
  {
   "cell_type": "markdown",
   "metadata": {},
   "source": [
    "#### chỉ số  pvalue = 0.01 < alpha = 0.05 ta bác bỏ giả thuyết vô hiệu Ho 2 quần thể có cùng giá trị trung bình"
   ]
  },
  {
   "cell_type": "code",
   "execution_count": null,
   "metadata": {},
   "outputs": [],
   "source": []
  }
 ],
 "metadata": {
  "kernelspec": {
   "display_name": "Python 3",
   "language": "python",
   "name": "python3"
  },
  "language_info": {
   "codemirror_mode": {
    "name": "ipython",
    "version": 3
   },
   "file_extension": ".py",
   "mimetype": "text/x-python",
   "name": "python",
   "nbconvert_exporter": "python",
   "pygments_lexer": "ipython3",
   "version": "3.6.8"
  }
 },
 "nbformat": 4,
 "nbformat_minor": 4
}
